{
 "cells": [
  {
   "cell_type": "markdown",
   "metadata": {},
   "source": [
    "# Solve N-Queens problem and plot it on a N-dimension Chess board"
   ]
  },
  {
   "cell_type": "markdown",
   "metadata": {},
   "source": [
    "## Import All Libraries needed"
   ]
  },
  {
   "cell_type": "code",
   "execution_count": 8,
   "metadata": {},
   "outputs": [],
   "source": [
    "import string\n",
    "import matplotlib.pyplot as plt\n",
    "import numpy as np\n",
    "import matplotlib.image as mpimg\n",
    "import random"
   ]
  },
  {
   "cell_type": "markdown",
   "metadata": {},
   "source": [
    "## Pre-define functions"
   ]
  },
  {
   "cell_type": "markdown",
   "metadata": {},
   "source": [
    "### Generate dictionary for chess notations"
   ]
  },
  {
   "cell_type": "code",
   "execution_count": 9,
   "metadata": {},
   "outputs": [],
   "source": [
    "def generate_dict(n):\n",
    "    # Generaete dictionary for chess notations\n",
    "    return {letter: idx for idx, letter in enumerate(string.ascii_lowercase[:n])}"
   ]
  },
  {
   "cell_type": "markdown",
   "metadata": {},
   "source": [
    "### Plot Chessboard with Queens using Matplotlib"
   ]
  },
  {
   "cell_type": "code",
   "execution_count": 28,
   "metadata": {},
   "outputs": [],
   "source": [
    "def plot_chessboard_with_queens(\n",
    "        n = 8, # Number of squares to be solved for\n",
    "        queens_positions = [(0, 0), (1, 1), (2, 2), (3, 3), (4, 4), (5, 5), (6, 6), (7, 7)], # Array with positions of queens to be placed at \n",
    "        queen_image_path = None # File path for the image to be used instead of Q\n",
    "        ):\n",
    "\n",
    "    # Create a chessboard (alternating colors)\n",
    "    chessboard = np.zeros((n, n))\n",
    "    chessboard[1::2, ::2] = 1  # Fill alternate rows starting from 1st row\n",
    "    chessboard[::2, 1::2] = 1  # Fill alternate rows starting from 2nd row\n",
    "\n",
    "    chess_grid = generate_dict(n) # Generate the chess notation dictionary\n",
    "\n",
    "    # Plot the chessboard first\n",
    "    plt.imshow(chessboard, cmap=\"gray\", interpolation=\"none\")\n",
    "    plt.xticks(ticks=range(n), labels=[i for i in chess_grid.keys()][:n])  # Set custom x-tick labels, get the column notation\n",
    "    plt.yticks(ticks=range(n), labels=[i + 1 for i in chess_grid.values()][:n])  # Set custom y-tick labels, get the row notation and add 1 to the index values\n",
    "    \n",
    "    for pos in queens_positions: # iterate through positions\n",
    "        row, col = pos\n",
    "        if queen_image_path: # If a path has been passed, use that image else, use Q            \n",
    "            # Load the queen image (ensure it's transparent)\n",
    "            queen_image = mpimg.imread(queen_image_path)\n",
    "            plt.imshow(queen_image, extent=(col-0.5, col+0.5, row-0.5, row+0.5), alpha=1)\n",
    "        else:\n",
    "            plt.text(col, row, 'Q', ha='center', va='center', fontsize=20, color='Blue')\n",
    "\n",
    "    # Set axis limits, ticks, and labels\n",
    "    plt.xticks(range(n))\n",
    "    plt.yticks(range(n))\n",
    "    plt.gca().set_xticks(np.arange(-.5, n, 1), minor=True)\n",
    "    plt.gca().set_yticks(np.arange(-.5, n, 1), minor=True)\n",
    "    plt.grid(which=\"minor\", color=\"black\", linestyle='-', linewidth=2)\n",
    "\n",
    "    # Show the chessboard with queens\n",
    "    plt.show()"
   ]
  },
  {
   "cell_type": "markdown",
   "metadata": {},
   "source": [
    "### Define N-Queens solver class"
   ]
  },
  {
   "cell_type": "code",
   "execution_count": 38,
   "metadata": {},
   "outputs": [],
   "source": [
    "class NQueens:\n",
    "    def __init__(self, n, image_path = None):\n",
    "        self.n = n\n",
    "        self.board = np.array([[\"*\" for _ in range(n)] for _ in range(n)]) # Create the chess board in the form of N-dimension array (using np.array reduces the time complexity)\n",
    "        self.queen_positions = []  # A list to store placed queens, this saves in the numerical, row/column form\n",
    "        self.rows = set()  # Track blocked rows\n",
    "        self.cols = set()  # Track blocked columns\n",
    "        self.diag1 = set()  # Track blocked major diagonals (x+y)\n",
    "        self.diag2 = set()  # Track blocked minor diagonals (x-y)\n",
    "        self.dictionary_alphabets = generate_dict(n) # Generate alphabetical dictionary for chess notations\n",
    "        self.image_path = image_path\n",
    "\n",
    "    def is_safe(self, x, y): # Check if placing a queen at (x, y) is safe.\n",
    "        return (x not in self.rows) and (y not in self.cols) and (x + y not in self.diag1) and (x - y not in self.diag2)\n",
    "\n",
    "    def put_queen(self, x, y): # Place a queen on the board and mark the row, column, and diagonals as unavailable\n",
    "        self.board[x][y] = 'Q' # Put a Q for queen\n",
    "        self.queen_positions.append((x, y))  # Add the latest move to the positions list\n",
    "        self.rows.add(x) # Add the latest row to block the entire row\n",
    "        self.cols.add(y) # Add the latest column to block the entire row\n",
    "        self.diag1.add(x + y) # Add it to the list of major diagonals\n",
    "        self.diag2.add(x - y) # Add it to the list of minor diagonals\n",
    "        square = f\"{[key for key, item in self.dictionary_alphabets.items() if item == y][0]}{x+1}\" # Get the square notation\n",
    "        print(f\"Put queen on {square}\")\n",
    "\n",
    "    def remove_queen(self): # Remove the last placed queen and unblock its row, column, and diagonals. This is used when we backtrack due to unsolvable position\n",
    "        if not self.queen_positions:\n",
    "            return\n",
    "        x, y = self.queen_positions.pop()  # Remove the last added item from the list, pop is used to remove the last added item in the list\n",
    "        self.board[x][y] = '*' # Remove the Q from the last added square\n",
    "        self.rows.remove(x) # Remove the latest row to unblock the entire row blocked because of the move made\n",
    "        self.cols.remove(y) # Remove the latest column to unblock the entire column blocked because of the move made\n",
    "        self.diag1.remove(x + y) # Remove the latest major diagonal list to unblock the diagonal blocked because of the move made\n",
    "        self.diag2.remove(x - y) # Remove the latest minor diagonal list to unblock the diagonal blocked because of the move made\n",
    "\n",
    "    def solve(self): # Solve the NQueens problem with random queen placement and backtracking\n",
    "        if self.backtrack(0):  # Start solving from the first column, the code currently works column wise so have to start with the first column\n",
    "            print(\"Solution found\")\n",
    "            self.print_board()\n",
    "        else:\n",
    "            print(\"No solution found.\")\n",
    "\n",
    "    def backtrack(self, col): # Backtracking approach to place queens. Try placing a queen in each row of the current column\n",
    "        if col >= self.n:\n",
    "            print(\"All queens are placed\")\n",
    "            return True\n",
    "        available_rows = list(range(self.n))\n",
    "        random.shuffle(available_rows)  # Randomize row selection for variety\n",
    "\n",
    "        for row in available_rows:\n",
    "            if self.is_safe(row, col):\n",
    "                self.put_queen(row, col) # Place the queen if it's safe\n",
    "\n",
    "                if self.backtrack(col + 1): # Move to the next column\n",
    "                    return True\n",
    "\n",
    "                self.remove_queen() # If placing the queen here doesn't lead to a solution, backtrack\n",
    "\n",
    "        # If no position in this column works, return False to trigger backtracking. Now it will randomly select another row in the previosu column and fix it\n",
    "        return False\n",
    "\n",
    "    def print_board(self): # Print the current state of the board\n",
    "        plot_chessboard_with_queens(self.n, self.queen_positions, self.image_path)\n"
   ]
  },
  {
   "cell_type": "markdown",
   "metadata": {},
   "source": [
    "## Model Config"
   ]
  },
  {
   "cell_type": "code",
   "execution_count": 39,
   "metadata": {},
   "outputs": [],
   "source": [
    "n = 8  # size of chessboard (can be any number)\n",
    "queen_image_path = \"/Users/harshitchandaliya/Downloads/Queen.png\"  # Path to your queen image"
   ]
  },
  {
   "cell_type": "markdown",
   "metadata": {},
   "source": [
    "## Results"
   ]
  },
  {
   "cell_type": "code",
   "execution_count": 40,
   "metadata": {},
   "outputs": [
    {
     "name": "stdout",
     "output_type": "stream",
     "text": [
      "Put queen on a4\n",
      "Put queen on b1\n",
      "Put queen on c5\n",
      "Put queen on d2\n",
      "Put queen on e6\n",
      "Put queen on f3\n",
      "Put queen on g7\n",
      "Put queen on d8\n",
      "Put queen on e2\n",
      "Put queen on f7\n",
      "Put queen on g3\n",
      "Put queen on h6\n",
      "All queens are placed\n",
      "Solution found\n"
     ]
    },
    {
     "data": {
      "image/png": "[encoded data removed]",
      "text/plain": [
       "<Figure size 640x480 with 1 Axes>"
      ]
     },
     "metadata": {},
     "output_type": "display_data"
    }
   ],
   "source": [
    "nqueens = NQueens(n, image_path=queen_image_path) # Assigns a variable to the model\n",
    "nqueens.solve()"
   ]
  }
 ],
 "metadata": {
  "kernelspec": {
   "display_name": ".venv",
   "language": "python",
   "name": "python3"
  },
  "language_info": {
   "codemirror_mode": {
    "name": "ipython",
    "version": 3
   },
   "file_extension": ".py",
   "mimetype": "text/x-python",
   "name": "python",
   "nbconvert_exporter": "python",
   "pygments_lexer": "ipython3",
   "version": "3.11.9"
  }
 },
 "nbformat": 4,
 "nbformat_minor": 2
}
